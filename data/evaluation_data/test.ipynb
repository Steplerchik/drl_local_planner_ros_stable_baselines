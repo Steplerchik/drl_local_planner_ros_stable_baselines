{
 "cells": [
  {
   "cell_type": "code",
   "execution_count": 1,
   "metadata": {},
   "outputs": [],
   "source": [
    "import pickle\n",
    "import seaborn as sn\n",
    "import os\n",
    "import matplotlib.pyplot as plt\n",
    "import pandas as pd\n",
    "import numpy as np\n",
    "from datetime import datetime\n",
    "\n",
    "from IPython.core.interactiveshell import InteractiveShell\n",
    "InteractiveShell.ast_node_interactivity = \"all\""
   ]
  },
  {
   "cell_type": "code",
   "execution_count": 11,
   "metadata": {},
   "outputs": [],
   "source": [
    "with open('./train/ppo2_1_raw_data_disc_0_by_polina_training_11Dec_14:53.pickle', 'rb') as f:\n",
    "    data = pickle.load(f)"
   ]
  },
  {
   "cell_type": "code",
   "execution_count": 19,
   "metadata": {},
   "outputs": [
    {
     "data": {
      "text/plain": [
       "dict_keys(['success', 'timestep', 'time_exceeded'])"
      ]
     },
     "execution_count": 19,
     "metadata": {},
     "output_type": "execute_result"
    }
   ],
   "source": [
    "data.keys()\n",
    "df = pd.DataFrame(data, index=range(len(data['timestep'])))"
   ]
  },
  {
   "cell_type": "code",
   "execution_count": 21,
   "metadata": {},
   "outputs": [
    {
     "data": {
      "text/html": [
       "<div>\n",
       "<style scoped>\n",
       "    .dataframe tbody tr th:only-of-type {\n",
       "        vertical-align: middle;\n",
       "    }\n",
       "\n",
       "    .dataframe tbody tr th {\n",
       "        vertical-align: top;\n",
       "    }\n",
       "\n",
       "    .dataframe thead th {\n",
       "        text-align: right;\n",
       "    }\n",
       "</style>\n",
       "<table border=\"1\" class=\"dataframe\">\n",
       "  <thead>\n",
       "    <tr style=\"text-align: right;\">\n",
       "      <th></th>\n",
       "      <th>success</th>\n",
       "      <th>timestep</th>\n",
       "      <th>time_exceeded</th>\n",
       "    </tr>\n",
       "  </thead>\n",
       "  <tbody>\n",
       "    <tr>\n",
       "      <th>24</th>\n",
       "      <td>0</td>\n",
       "      <td>3557</td>\n",
       "      <td>1</td>\n",
       "    </tr>\n",
       "    <tr>\n",
       "      <th>29</th>\n",
       "      <td>0</td>\n",
       "      <td>4162</td>\n",
       "      <td>1</td>\n",
       "    </tr>\n",
       "    <tr>\n",
       "      <th>30</th>\n",
       "      <td>0</td>\n",
       "      <td>4305</td>\n",
       "      <td>1</td>\n",
       "    </tr>\n",
       "    <tr>\n",
       "      <th>35</th>\n",
       "      <td>0</td>\n",
       "      <td>5074</td>\n",
       "      <td>1</td>\n",
       "    </tr>\n",
       "    <tr>\n",
       "      <th>50</th>\n",
       "      <td>0</td>\n",
       "      <td>6259</td>\n",
       "      <td>1</td>\n",
       "    </tr>\n",
       "    <tr>\n",
       "      <th>53</th>\n",
       "      <td>0</td>\n",
       "      <td>6449</td>\n",
       "      <td>1</td>\n",
       "    </tr>\n",
       "    <tr>\n",
       "      <th>54</th>\n",
       "      <td>0</td>\n",
       "      <td>6508</td>\n",
       "      <td>1</td>\n",
       "    </tr>\n",
       "    <tr>\n",
       "      <th>55</th>\n",
       "      <td>0</td>\n",
       "      <td>6533</td>\n",
       "      <td>1</td>\n",
       "    </tr>\n",
       "    <tr>\n",
       "      <th>62</th>\n",
       "      <td>0</td>\n",
       "      <td>7596</td>\n",
       "      <td>1</td>\n",
       "    </tr>\n",
       "    <tr>\n",
       "      <th>78</th>\n",
       "      <td>0</td>\n",
       "      <td>9060</td>\n",
       "      <td>1</td>\n",
       "    </tr>\n",
       "    <tr>\n",
       "      <th>82</th>\n",
       "      <td>0</td>\n",
       "      <td>9333</td>\n",
       "      <td>1</td>\n",
       "    </tr>\n",
       "    <tr>\n",
       "      <th>84</th>\n",
       "      <td>0</td>\n",
       "      <td>9522</td>\n",
       "      <td>1</td>\n",
       "    </tr>\n",
       "  </tbody>\n",
       "</table>\n",
       "</div>"
      ],
      "text/plain": [
       "    success  timestep  time_exceeded\n",
       "24        0      3557              1\n",
       "29        0      4162              1\n",
       "30        0      4305              1\n",
       "35        0      5074              1\n",
       "50        0      6259              1\n",
       "53        0      6449              1\n",
       "54        0      6508              1\n",
       "55        0      6533              1\n",
       "62        0      7596              1\n",
       "78        0      9060              1\n",
       "82        0      9333              1\n",
       "84        0      9522              1"
      ]
     },
     "execution_count": 21,
     "metadata": {},
     "output_type": "execute_result"
    }
   ],
   "source": [
    "df[df['time_exceeded'] == 1]"
   ]
  },
  {
   "cell_type": "code",
   "execution_count": 7,
   "metadata": {},
   "outputs": [],
   "source": [
    "def calc_success_rate(df, i_step):\n",
    "    df_cutted = df.iloc[:i_step + 1]\n",
    "    return (len(df_cutted[df_cutted['success'] == 1]) - len(df_cutted[df_cutted['success'] != 1])) / (len(df_cutted[df_cutted['success'] == 1]) + len(df_cutted[df_cutted['success'] != 1]))"
   ]
  },
  {
   "cell_type": "code",
   "execution_count": 22,
   "metadata": {},
   "outputs": [],
   "source": [
    "def calc_timeexceeded_rate(df, i_step):\n",
    "    df_cutted = df.iloc[:i_step + 1]\n",
    "    return (len(df_cutted[df_cutted['time_exceeded'] == 0]) - len(df_cutted[df_cutted['time_exceeded'] == 1])) / (len(df_cutted[df_cutted['time_exceeded'] == 0]) + len(df_cutted[df_cutted['time_exceeded'] == 1]))"
   ]
  },
  {
   "cell_type": "code",
   "execution_count": 23,
   "metadata": {},
   "outputs": [
    {
     "data": {
      "text/html": [
       "<div>\n",
       "<style scoped>\n",
       "    .dataframe tbody tr th:only-of-type {\n",
       "        vertical-align: middle;\n",
       "    }\n",
       "\n",
       "    .dataframe tbody tr th {\n",
       "        vertical-align: top;\n",
       "    }\n",
       "\n",
       "    .dataframe thead th {\n",
       "        text-align: right;\n",
       "    }\n",
       "</style>\n",
       "<table border=\"1\" class=\"dataframe\">\n",
       "  <thead>\n",
       "    <tr style=\"text-align: right;\">\n",
       "      <th></th>\n",
       "      <th>success</th>\n",
       "      <th>timestep</th>\n",
       "      <th>time_exceeded</th>\n",
       "      <th>success_rate</th>\n",
       "      <th>time_exceeded_rate</th>\n",
       "    </tr>\n",
       "  </thead>\n",
       "  <tbody>\n",
       "    <tr>\n",
       "      <th>0</th>\n",
       "      <td>-1</td>\n",
       "      <td>24</td>\n",
       "      <td>0</td>\n",
       "      <td>-1</td>\n",
       "      <td>1.000000</td>\n",
       "    </tr>\n",
       "    <tr>\n",
       "      <th>1</th>\n",
       "      <td>-1</td>\n",
       "      <td>368</td>\n",
       "      <td>0</td>\n",
       "      <td>-1</td>\n",
       "      <td>1.000000</td>\n",
       "    </tr>\n",
       "    <tr>\n",
       "      <th>2</th>\n",
       "      <td>-1</td>\n",
       "      <td>463</td>\n",
       "      <td>0</td>\n",
       "      <td>-1</td>\n",
       "      <td>1.000000</td>\n",
       "    </tr>\n",
       "    <tr>\n",
       "      <th>3</th>\n",
       "      <td>-1</td>\n",
       "      <td>466</td>\n",
       "      <td>0</td>\n",
       "      <td>-1</td>\n",
       "      <td>1.000000</td>\n",
       "    </tr>\n",
       "    <tr>\n",
       "      <th>4</th>\n",
       "      <td>-1</td>\n",
       "      <td>920</td>\n",
       "      <td>0</td>\n",
       "      <td>-1</td>\n",
       "      <td>1.000000</td>\n",
       "    </tr>\n",
       "    <tr>\n",
       "      <th>...</th>\n",
       "      <td>...</td>\n",
       "      <td>...</td>\n",
       "      <td>...</td>\n",
       "      <td>...</td>\n",
       "      <td>...</td>\n",
       "    </tr>\n",
       "    <tr>\n",
       "      <th>80</th>\n",
       "      <td>-1</td>\n",
       "      <td>9265</td>\n",
       "      <td>0</td>\n",
       "      <td>-1</td>\n",
       "      <td>0.753086</td>\n",
       "    </tr>\n",
       "    <tr>\n",
       "      <th>81</th>\n",
       "      <td>-1</td>\n",
       "      <td>9315</td>\n",
       "      <td>0</td>\n",
       "      <td>-1</td>\n",
       "      <td>0.756098</td>\n",
       "    </tr>\n",
       "    <tr>\n",
       "      <th>82</th>\n",
       "      <td>0</td>\n",
       "      <td>9333</td>\n",
       "      <td>1</td>\n",
       "      <td>-1</td>\n",
       "      <td>0.734940</td>\n",
       "    </tr>\n",
       "    <tr>\n",
       "      <th>83</th>\n",
       "      <td>-1</td>\n",
       "      <td>9419</td>\n",
       "      <td>0</td>\n",
       "      <td>-1</td>\n",
       "      <td>0.738095</td>\n",
       "    </tr>\n",
       "    <tr>\n",
       "      <th>84</th>\n",
       "      <td>0</td>\n",
       "      <td>9522</td>\n",
       "      <td>1</td>\n",
       "      <td>-1</td>\n",
       "      <td>0.717647</td>\n",
       "    </tr>\n",
       "  </tbody>\n",
       "</table>\n",
       "<p>85 rows × 5 columns</p>\n",
       "</div>"
      ],
      "text/plain": [
       "    success  timestep  time_exceeded  success_rate  time_exceeded_rate\n",
       "0        -1        24              0            -1            1.000000\n",
       "1        -1       368              0            -1            1.000000\n",
       "2        -1       463              0            -1            1.000000\n",
       "3        -1       466              0            -1            1.000000\n",
       "4        -1       920              0            -1            1.000000\n",
       "..      ...       ...            ...           ...                 ...\n",
       "80       -1      9265              0            -1            0.753086\n",
       "81       -1      9315              0            -1            0.756098\n",
       "82        0      9333              1            -1            0.734940\n",
       "83       -1      9419              0            -1            0.738095\n",
       "84        0      9522              1            -1            0.717647\n",
       "\n",
       "[85 rows x 5 columns]"
      ]
     },
     "execution_count": 23,
     "metadata": {},
     "output_type": "execute_result"
    }
   ],
   "source": [
    "df['success_rate'] = 1\n",
    "df['time_exceeded_rate'] = 1\n",
    "for i in range(len(df['timestep'])):\n",
    "    df.loc[i, 'success_rate'] = calc_success_rate(df, i)\n",
    "    df.loc[i, 'time_exceeded_rate'] = calc_timeexceeded_rate(df, i)\n",
    "df"
   ]
  },
  {
   "cell_type": "code",
   "execution_count": 102,
   "metadata": {},
   "outputs": [
    {
     "data": {
      "image/png": "[encoded data removed]",
      "text/plain": [
       "<Figure size 640x480 with 1 Axes>"
      ]
     },
     "metadata": {},
     "output_type": "display_data"
    }
   ],
   "source": [
    "sn.lineplot(\n",
    "    x='timestep', \n",
    "    y='success_rate', \n",
    "    # errorbar='sd',\n",
    "    data=df, \n",
    "    # kind='line',\n",
    "    # err_style=\"band\"\n",
    "    )\n",
    "plt.title('Success rate', size=20, color='black')\n",
    "plt.show()\n",
    "plt.close();"
   ]
  },
  {
   "cell_type": "code",
   "execution_count": 24,
   "metadata": {},
   "outputs": [
    {
     "data": {
      "image/png": "[encoded data removed]",
      "text/plain": [
       "<Figure size 640x480 with 1 Axes>"
      ]
     },
     "metadata": {},
     "output_type": "display_data"
    }
   ],
   "source": [
    "sn.lineplot(\n",
    "    x='timestep', \n",
    "    y='time_exceeded_rate', \n",
    "    # errorbar='sd',\n",
    "    data=df, \n",
    "    # kind='line',\n",
    "    # err_style=\"band\"\n",
    "    )\n",
    "plt.title('Time-exceeded rate', size=20, color='black')\n",
    "plt.show()\n",
    "plt.close();"
   ]
  },
  {
   "cell_type": "code",
   "execution_count": 42,
   "metadata": {},
   "outputs": [
    {
     "data": {
      "text/plain": [
       "(10, 1)"
      ]
     },
     "execution_count": 42,
     "metadata": {},
     "output_type": "execute_result"
    }
   ],
   "source": [
    "x = np.arange(0,10, 1, float)\n",
    "y = np.arange(0,10, 1, float)\n",
    "y = y[:,np.newaxis]\n",
    "y.shape"
   ]
  },
  {
   "cell_type": "code",
   "execution_count": 45,
   "metadata": {},
   "outputs": [],
   "source": [
    "def makeGaussian2(x_center=0, y_center=0, theta=0, sigma_x = 10, sigma_y=10, x_size=480, y_size=480):\n",
    "    # x_center and y_center will be the center of the gaussian, theta will be the rotation angle\n",
    "    # sigma_x and sigma_y will be the stdevs in the x and y axis before rotation\n",
    "    # x_size and y_size give the size of the frame \n",
    "    A = 255\n",
    "    theta = 2*np.pi*theta/360\n",
    "    x = np.arange(0,x_size, 1, float)\n",
    "    y = np.arange(0,y_size, 1, float)\n",
    "    y = y[:,np.newaxis]\n",
    "    sx = sigma_x\n",
    "    sy = sigma_y\n",
    "    x0 = x_center\n",
    "    y0 = y_center\n",
    "\n",
    "    # rotation\n",
    "    a=np.cos(theta)*x -np.sin(theta)*y\n",
    "    b=np.sin(theta)*x +np.cos(theta)*y\n",
    "    a0=np.cos(theta)*x0 -np.sin(theta)*y0\n",
    "    b0=np.sin(theta)*x0 +np.cos(theta)*y0\n",
    "\n",
    "    return A * np.exp(-(((a-a0)**2)/(2*(sx**2)) + ((b-b0)**2) /(2*(sy**2))))"
   ]
  },
  {
   "cell_type": "code",
   "execution_count": 46,
   "metadata": {},
   "outputs": [
    {
     "data": {
      "text/plain": [
       "array([[6.77046044e-221, 1.25840635e-189, 2.63215760e-165,\n",
       "        6.19571118e-148, 1.64118950e-137, 4.89231696e-134,\n",
       "        1.64118950e-137, 6.19571118e-148, 2.63215760e-165,\n",
       "        1.25840635e-189],\n",
       "       [4.88368247e-172, 9.07716262e-141, 1.89863334e-116,\n",
       "        4.46910315e-099, 1.18382619e-088, 3.52893614e-085,\n",
       "        1.18382619e-088, 4.46910315e-099, 1.89863334e-116,\n",
       "        9.07716262e-141],\n",
       "       [4.89231696e-134, 9.09321129e-103, 1.90199018e-078,\n",
       "        4.47700465e-061, 1.18591923e-050, 3.53517540e-047,\n",
       "        1.18591923e-050, 4.47700465e-061, 1.90199018e-078,\n",
       "        9.09321129e-103],\n",
       "       [6.80643505e-107, 1.26509285e-075, 2.64614348e-051,\n",
       "        6.22863188e-034, 1.64990991e-023, 4.91831211e-020,\n",
       "        1.64990991e-023, 6.22863188e-034, 2.64614348e-051,\n",
       "        1.26509285e-075],\n",
       "       [1.31511211e-090, 2.44436172e-059, 5.11277239e-035,\n",
       "        1.20347129e-017, 3.18788981e-007, 9.50296559e-004,\n",
       "        3.18788981e-007, 1.20347129e-017, 5.11277239e-035,\n",
       "        2.44436172e-059],\n",
       "       [3.52893614e-085, 6.55913390e-054, 1.37194747e-029,\n",
       "        3.22936222e-012, 8.55429701e-002, 2.55000000e+002,\n",
       "        8.55429701e-002, 3.22936222e-012, 1.37194747e-029,\n",
       "        6.55913390e-054],\n",
       "       [1.31511211e-090, 2.44436172e-059, 5.11277239e-035,\n",
       "        1.20347129e-017, 3.18788981e-007, 9.50296559e-004,\n",
       "        3.18788981e-007, 1.20347129e-017, 5.11277239e-035,\n",
       "        2.44436172e-059],\n",
       "       [6.80643505e-107, 1.26509285e-075, 2.64614348e-051,\n",
       "        6.22863188e-034, 1.64990991e-023, 4.91831211e-020,\n",
       "        1.64990991e-023, 6.22863188e-034, 2.64614348e-051,\n",
       "        1.26509285e-075],\n",
       "       [4.89231696e-134, 9.09321129e-103, 1.90199018e-078,\n",
       "        4.47700465e-061, 1.18591923e-050, 3.53517540e-047,\n",
       "        1.18591923e-050, 4.47700465e-061, 1.90199018e-078,\n",
       "        9.09321129e-103],\n",
       "       [4.88368247e-172, 9.07716262e-141, 1.89863334e-116,\n",
       "        4.46910315e-099, 1.18382619e-088, 3.52893614e-085,\n",
       "        1.18382619e-088, 4.46910315e-099, 1.89863334e-116,\n",
       "        9.07716262e-141]])"
      ]
     },
     "execution_count": 46,
     "metadata": {},
     "output_type": "execute_result"
    }
   ],
   "source": [
    "s = makeGaussian2(5, 5, 0, 0.25, 0.2, 10, 10)\n",
    "s"
   ]
  },
  {
   "cell_type": "code",
   "execution_count": 47,
   "metadata": {},
   "outputs": [
    {
     "data": {
      "text/plain": [
       "[<matplotlib.lines.Line2D at 0x7fbd3881f160>]"
      ]
     },
     "execution_count": 47,
     "metadata": {},
     "output_type": "execute_result"
    },
    {
     "data": {
      "image/png": "[encoded data removed]",
      "text/plain": [
       "<Figure size 640x480 with 1 Axes>"
      ]
     },
     "metadata": {},
     "output_type": "display_data"
    }
   ],
   "source": [
    "plt.plot(s[0], s[1], 'x')"
   ]
  },
  {
   "cell_type": "code",
   "execution_count": 14,
   "metadata": {},
   "outputs": [],
   "source": [
    "import numpy as np\n",
    "\n",
    "def makeGaussian(size, fwhm = 3, center=None):\n",
    "    \"\"\" Make a square gaussian kernel.\n",
    "\n",
    "    size is the length of a side of the square\n",
    "    fwhm is full-width-half-maximum, which\n",
    "    can be thought of as an effective radius.\n",
    "    \"\"\"\n",
    "\n",
    "    x = np.arange(0, size, 1, float)\n",
    "    y = x[:,np.newaxis]\n",
    "\n",
    "    if center is None:\n",
    "        x0 = y0 = size // 2\n",
    "    else:\n",
    "        x0 = center[0]\n",
    "        y0 = center[1]\n",
    "\n",
    "    return np.exp(-4*np.log(2) * ((x-x0)**2 + (y-y0)**2) / fwhm**2)"
   ]
  },
  {
   "cell_type": "code",
   "execution_count": 11,
   "metadata": {},
   "outputs": [],
   "source": [
    "s = makeGaussian2()"
   ]
  },
  {
   "cell_type": "code",
   "execution_count": 12,
   "metadata": {},
   "outputs": [
    {
     "data": {
      "text/plain": [
       "(480, 480)"
      ]
     },
     "execution_count": 12,
     "metadata": {},
     "output_type": "execute_result"
    }
   ],
   "source": [
    "s.shape"
   ]
  },
  {
   "cell_type": "code",
   "execution_count": 15,
   "metadata": {},
   "outputs": [],
   "source": [
    "m = makeGaussian(200)"
   ]
  },
  {
   "cell_type": "code",
   "execution_count": 13,
   "metadata": {},
   "outputs": [
    {
     "data": {
      "text/plain": [
       "<matplotlib.collections.PathCollection at 0x7fbd38b0b190>"
      ]
     },
     "execution_count": 13,
     "metadata": {},
     "output_type": "execute_result"
    },
    {
     "data": {
      "image/png": "[encoded data removed]",
      "text/plain": [
       "<Figure size 640x480 with 1 Axes>"
      ]
     },
     "metadata": {},
     "output_type": "display_data"
    }
   ],
   "source": [
    "plt.scatter(s[0], s[1])"
   ]
  },
  {
   "cell_type": "code",
   "execution_count": 16,
   "metadata": {},
   "outputs": [
    {
     "data": {
      "text/plain": [
       "(200, 200)"
      ]
     },
     "execution_count": 16,
     "metadata": {},
     "output_type": "execute_result"
    }
   ],
   "source": [
    "m.shape"
   ]
  },
  {
   "cell_type": "code",
   "execution_count": 33,
   "metadata": {},
   "outputs": [
    {
     "data": {
      "text/plain": [
       "array([[0., 0., 0., ..., 0., 0., 0.],\n",
       "       [0., 0., 0., ..., 0., 0., 0.],\n",
       "       [0., 0., 0., ..., 0., 0., 0.],\n",
       "       ...,\n",
       "       [0., 0., 0., ..., 0., 0., 0.],\n",
       "       [0., 0., 0., ..., 0., 0., 0.],\n",
       "       [0., 0., 0., ..., 0., 0., 0.]])"
      ]
     },
     "execution_count": 33,
     "metadata": {},
     "output_type": "execute_result"
    }
   ],
   "source": [
    "m"
   ]
  },
  {
   "cell_type": "code",
   "execution_count": 32,
   "metadata": {},
   "outputs": [
    {
     "data": {
      "text/plain": [
       "[<matplotlib.lines.Line2D at 0x7fbd38a1e6e0>]"
      ]
     },
     "execution_count": 32,
     "metadata": {},
     "output_type": "execute_result"
    },
    {
     "data": {
      "image/png": "[encoded data removed]",
      "text/plain": [
       "<Figure size 640x480 with 1 Axes>"
      ]
     },
     "metadata": {},
     "output_type": "display_data"
    }
   ],
   "source": [
    "plt.plot(m[0], m[1], 'x')"
   ]
  },
  {
   "cell_type": "code",
   "execution_count": 31,
   "metadata": {},
   "outputs": [
    {
     "data": {
      "text/plain": [
       "array([0.00000000e+000, 4.94065646e-224, 3.45845952e-223, 1.72922976e-222,\n",
       "       2.32210854e-222, 4.29837112e-222, 5.87938119e-222, 6.88233445e-221,\n",
       "       2.36064566e-220, 5.94855038e-220, 8.09477154e-220, 1.10151936e-219,\n",
       "       2.77566080e-219, 6.99428972e-219, 9.51773001e-219, 4.44108198e-218,\n",
       "       1.52283730e-217, 9.66941310e-217, 4.51186039e-216, 1.54710607e-215,\n",
       "       5.30498948e-215, 2.47536971e-214, 6.23754081e-214, 8.48798316e-214,\n",
       "       2.91050900e-213, 7.33402310e-213, 1.84805802e-212, 2.51481887e-212,\n",
       "       4.02371019e-211, 2.55489672e-210, 3.47667790e-210, 4.73102853e-210,\n",
       "       1.19214449e-209, 1.62225829e-209, 3.00401586e-209, 4.08783475e-209,\n",
       "       5.56268465e-209, 4.80642538e-208, 1.64811169e-207, 4.15298123e-207,\n",
       "       1.93782928e-206, 6.64476997e-206, 3.10052685e-205, 7.81283810e-205,\n",
       "       2.67900338e-204, 4.28640541e-203, 7.93734875e-203, 1.08010648e-202,\n",
       "       9.33263619e-202, 1.26997580e-201, 1.72817037e-201, 4.35471645e-201,\n",
       "       5.12022158e-200, 1.29021499e-199, 8.19235452e-199, 2.06434398e-198,\n",
       "       7.07858583e-198, 1.78369186e-197, 3.30295037e-197, 8.32291340e-197,\n",
       "       2.09724276e-196, 2.85390697e-196, 9.78597832e-196, 1.15062319e-194,\n",
       "       1.56575653e-194, 2.89938876e-194, 5.36894146e-194, 3.40906533e-193,\n",
       "       2.16462156e-192, 4.00833672e-192, 7.42243521e-192, 1.87033647e-191,\n",
       "       6.41333875e-191, 2.19911842e-190, 2.99253836e-190, 7.54072414e-190,\n",
       "       8.86628989e-189, 1.20651586e-188, 7.66089820e-188, 3.57466409e-187,\n",
       "       9.00758906e-187, 1.22574371e-186, 5.71946254e-186, 1.44121425e-185,\n",
       "       4.94188897e-185, 1.24527799e-184, 2.30594280e-184, 5.81061174e-184,\n",
       "       7.90702236e-184, 1.99244478e-183, 1.72156751e-182, 2.34269186e-182,\n",
       "       2.02419772e-181, 2.75450802e-181, 3.23871636e-180, 4.40721283e-180,\n",
       "       1.51122267e-179, 3.80804251e-179, 5.18194617e-179, 3.29033072e-178,\n",
       "       1.53530653e-177, 3.86873004e-177, 1.80519438e-176, 6.18996807e-176,\n",
       "       8.42324665e-176, 2.12252515e-175, 5.34842823e-175, 9.90394891e-175,\n",
       "       2.49563874e-174, 6.28861556e-174, 8.55748518e-174, 3.99302199e-173,\n",
       "       7.39407616e-173, 3.45016183e-172, 8.69386302e-172, 1.18305219e-171,\n",
       "       5.52025892e-171, 1.02221363e-170, 1.39101808e-170, 1.63554181e-169,\n",
       "       5.60823348e-169, 2.61686689e-168, 6.59409135e-168, 1.66160690e-167,\n",
       "       2.26109805e-167, 7.75325081e-167, 2.65857104e-166, 1.07186868e-164,\n",
       "       1.45858818e-164, 2.70093982e-164, 3.17573153e-163, 4.32150371e-163,\n",
       "       5.88065903e-163, 3.73398574e-162, 6.91440594e-162, 1.74232112e-161,\n",
       "       5.97437718e-161, 2.78771379e-160, 7.02459856e-160, 9.55900348e-160,\n",
       "       2.40871794e-159, 6.06958887e-159, 1.12393577e-158, 3.85394870e-158,\n",
       "       7.13654730e-158, 9.71134220e-158, 1.14184757e-156, 5.32799338e-156,\n",
       "       9.86610868e-156, 4.60364092e-155, 1.16004482e-154, 1.85607171e-153,\n",
       "       6.36442522e-153, 1.60373466e-152, 7.48321222e-152, 1.88565132e-151,\n",
       "       2.56597546e-151, 3.49175374e-151, 3.01704211e-150, 4.10556073e-150,\n",
       "       1.03453648e-149, 2.60686857e-149, 4.82726738e-149, 1.21639516e-148,\n",
       "       3.06512372e-148, 4.17098971e-148, 1.43022233e-147, 1.94623225e-147,\n",
       "       7.84671673e-146, 2.69062028e-145, 6.77993826e-145, 5.85819068e-144,\n",
       "       2.73349982e-143, 6.88798792e-143, 1.27548277e-142, 3.21401517e-142,\n",
       "       8.09881075e-142, 1.10207807e-141, 1.49969681e-141, 5.14242428e-141,\n",
       "       4.44330034e-140, 5.22437741e-139, 7.10928054e-139, 1.79142644e-138,\n",
       "       6.14275815e-138, 2.10633698e-137, 2.86628231e-137, 7.22257882e-137,\n",
       "       9.82841304e-137, 1.81997582e-136, 2.13990499e-135, 2.91196131e-135,\n",
       "       2.51607374e-134, 3.42384798e-134, 4.65913810e-134, 1.17402923e-133,\n",
       "       4.02571798e-133, 1.38040901e-132, 1.87844677e-132, 3.47841273e-132,\n",
       "       5.56546037e-131, 1.90838296e-130, 4.80882374e-130, 2.24385301e-129,\n",
       "       5.65415529e-129, 3.59016482e-128, 9.04664846e-128, 1.23105888e-127,\n",
       "       3.10207398e-127, 7.81673662e-127, 3.64738011e-126, 4.96331837e-126,\n",
       "       9.19082194e-126, 1.25067786e-125, 5.04241716e-124, 1.27060950e-123,\n",
       "       1.72903271e-123, 2.35285042e-123, 1.49396689e-122, 2.03297521e-122,\n",
       "       2.39034703e-121, 2.06537407e-120, 3.82455524e-120, 9.63727531e-120,\n",
       "       1.31143079e-119, 1.13313887e-118, 3.88550593e-118, 1.33233063e-117,\n",
       "       1.81302220e-117, 3.35726282e-117, 6.21680949e-117, 1.56653783e-116,\n",
       "       5.37162050e-116, 2.50646052e-115, 4.64133683e-115, 6.31588475e-115,\n",
       "       8.59459281e-115, 2.16570168e-114, 5.45722627e-114, 3.46512269e-113,\n",
       "       6.41653894e-113, 8.73156202e-113, 1.39704992e-111, 3.52034521e-111,\n",
       "       8.87071408e-111, 1.64263397e-110, 4.13917823e-110, 4.86679441e-109,\n",
       "       6.62268517e-109, 1.66881209e-108, 2.27090280e-108, 5.72231649e-108,\n",
       "       1.44193340e-107, 2.67009934e-107, 1.69540740e-106, 2.30709344e-106,\n",
       "       1.99343899e-105, 9.30161788e-105, 2.34386083e-104, 3.18950238e-104,\n",
       "       1.09367269e-103, 2.75588249e-103, 3.75017733e-103, 1.74987631e-102,\n",
       "       1.77776351e-100, 2.41916281e-100, 4.47968334e-100, 6.09590830e-100,\n",
       "       7.16749335e-099, 9.75345327e-099, 3.34443565e-098, 2.88975224e-097,\n",
       "       7.28171935e-097, 9.90889087e-097, 4.62360358e-096, 8.56175527e-096,\n",
       "       3.99501446e-095, 1.00668056e-094, 1.86412015e-094, 4.69728844e-094,\n",
       "       6.39202314e-094, 2.19180935e-093, 1.89382803e-092, 6.49389072e-092,\n",
       "       3.03012484e-091, 7.63543615e-091, 1.92400935e-090, 2.61817268e-090,\n",
       "       8.97765109e-090, 1.22166978e-089, 3.07841495e-089, 1.05558108e-088,\n",
       "       2.65989764e-088, 1.68892972e-087, 3.12747465e-087, 5.00395943e-086,\n",
       "       6.80933796e-086, 1.71584565e-085, 4.32366009e-085, 5.88359342e-085,\n",
       "       2.01747002e-084, 5.08370590e-084, 6.91785615e-084, 8.13392944e-083,\n",
       "       1.10685698e-082, 7.02810376e-082, 1.30142871e-081, 4.46256772e-081,\n",
       "       8.26355721e-081, 1.12449660e-080, 3.85587178e-080, 6.16939485e-079,\n",
       "       5.33065200e-078, 1.34324013e-077, 1.82786774e-077, 1.57936508e-076,\n",
       "       2.14918421e-076, 2.92458838e-076, 1.85699787e-075, 2.52698413e-075,\n",
       "       8.66496777e-075, 1.17912015e-074, 2.97119659e-074, 4.04317461e-074,\n",
       "       3.49349609e-073, 1.19791140e-072, 3.01854758e-072, 5.58959375e-072,\n",
       "       1.40848936e-071, 3.54917080e-071, 2.25358298e-070, 1.94720340e-069,\n",
       "       4.90664510e-069, 9.08587724e-069, 3.11552544e-068, 5.76917244e-068,\n",
       "       7.85063216e-068, 9.23067590e-067, 3.16517655e-066, 7.97574512e-066,\n",
       "       1.08533142e-065, 3.72157532e-065, 9.37778217e-065, 1.27611922e-064,\n",
       "       1.73653027e-064, 5.95452051e-064, 1.50044515e-063, 5.14499029e-063,\n",
       "       1.29645631e-062, 6.04941576e-062, 1.52435725e-061, 2.07433010e-061,\n",
       "       2.43897160e-060, 3.31892817e-060, 8.36317492e-060, 2.10738802e-059,\n",
       "       3.90235456e-059, 9.83331731e-059, 1.57333077e-057, 2.91341435e-057,\n",
       "       5.39491334e-057, 1.35943298e-056, 6.34327218e-056, 1.59840443e-055,\n",
       "       2.17509276e-055, 4.02772677e-055, 5.48089031e-055, 7.45834073e-055,\n",
       "       6.44436283e-054, 5.56823747e-053, 6.54706454e-052, 8.90917996e-052,\n",
       "       3.05493636e-051, 4.15712685e-051, 3.59195628e-050, 9.05116265e-050,\n",
       "       4.22337763e-049, 5.74713004e-049, 1.44818602e-048, 1.25130193e-047,\n",
       "       1.70275916e-047, 2.31709764e-047, 5.83872018e-047, 1.47126529e-046,\n",
       "       2.00208310e-046, 2.72441466e-046, 1.72989548e-045, 1.09841516e-044,\n",
       "       2.76783276e-044, 9.49083192e-044, 2.39153978e-043, 1.11592024e-042,\n",
       "       1.51853311e-042, 2.81194281e-042, 1.31208518e-041, 4.49910849e-041,\n",
       "       2.09933628e-040, 3.88744476e-040, 7.19857359e-040, 1.81392688e-039,\n",
       "       6.21991161e-039, 2.90228301e-038, 7.31329490e-038, 9.95185857e-038,\n",
       "       2.50771122e-037, 6.31903631e-037, 8.59888142e-037, 2.94853574e-036,\n",
       "       7.42984450e-036, 1.01104581e-035, 1.61767329e-034, 4.07628127e-034,\n",
       "       1.20772024e-032, 1.64345363e-032, 5.63536293e-032, 7.66854552e-032,\n",
       "       1.93235238e-031, 2.62952580e-031, 1.66964481e-030, 3.09176381e-030,\n",
       "       7.79075662e-030, 1.06015837e-029, 1.96314765e-029, 2.67143169e-029,\n",
       "       2.30824465e-028, 3.14103624e-028, 1.07705377e-027, 1.26638646e-026,\n",
       "       4.34240869e-026, 5.90910632e-026, 2.02621833e-025, 5.10575026e-025,\n",
       "       6.94785390e-025, 1.75074948e-024, 4.41161223e-024, 2.80119916e-023,\n",
       "       5.18711893e-023, 2.42036995e-022, 8.29939029e-022, 1.12937273e-021,\n",
       "       2.84584096e-021, 3.87259191e-021, 7.17106985e-021, 8.43165496e-020,\n",
       "       5.35376718e-019, 9.91383530e-019, 1.34906479e-018, 4.62591071e-018,\n",
       "       1.58621365e-017, 2.15850367e-017, 1.37056440e-016, 1.86505033e-016,\n",
       "       2.19290304e-015, 7.51941174e-015, 1.89477303e-014, 3.50864486e-014,\n",
       "       8.84123104e-014, 2.22785062e-013, 3.03163684e-013, 3.56456099e-012,\n",
       "       4.85061895e-012, 1.22227938e-011, 1.43714094e-010, 1.95564701e-010,\n",
       "       3.62136823e-010, 4.25795984e-009, 5.79418917e-009, 7.88467468e-009,\n",
       "       5.00645635e-008, 6.81273574e-008, 9.27070267e-008, 2.33607069e-007,\n",
       "       5.88652927e-007, 8.01033017e-007, 3.73771310e-006, 9.41844683e-006,\n",
       "       1.28165283e-005, 8.13798818e-005, 1.50695149e-004, 3.79727982e-004,\n",
       "       5.16730040e-004, 1.30207811e-003, 4.46479450e-003, 1.53096729e-002,\n",
       "       5.24964998e-002, 1.32282890e-001, 1.55536581e+000, 2.11652624e+000,\n",
       "       9.87595731e+000, 1.82877983e+001, 8.53329910e+001, 2.15025663e+002,\n",
       "       2.92604772e+002, 1.00333472e+003, 1.36532786e+003, 2.52824507e+003,\n",
       "       4.68167635e+003, 5.50465698e+004, 1.38708664e+005, 3.49523931e+005,\n",
       "       1.63091926e+006, 4.10965902e+006, 5.59238290e+006, 2.60947082e+007,\n",
       "       6.57545443e+007, 2.25470750e+008, 1.05207271e+009, 2.65105710e+009,\n",
       "       3.60753200e+009, 6.68024530e+009, 9.09041100e+009, 7.85454954e+010,\n",
       "       3.66502405e+011, 1.25672793e+012, 1.71014280e+012, 4.30928981e+012,\n",
       "       1.08587299e+013, 2.01076468e+013, 1.73739678e+014, 2.36423217e+014,\n",
       "       5.95749175e+014, 1.50119385e+015, 7.00474489e+015, 9.53198680e+015,\n",
       "       1.76508511e+016, 2.40191016e+016, 2.82413617e+017, 9.68389496e+017,\n",
       "       1.31777474e+018, 2.44018862e+018, 1.13862036e+019, 3.90430180e+019,\n",
       "       1.82179257e+020, 4.59062961e+020, 6.24688287e+020, 3.96652338e+021,\n",
       "       5.39760535e+021, 7.34500738e+021, 2.51858535e+022, 4.66378898e+022,\n",
       "       6.34643740e+022, 8.63616856e+022, 7.46206236e+023, 2.55872322e+024,\n",
       "       6.44757850e+024, 3.00851502e+025, 7.58098281e+025, 3.53737464e+026,\n",
       "       4.81362404e+026, 1.21295725e+027, 1.65058010e+027, 4.15920122e+027,\n",
       "       1.04805303e+028, 4.89033719e+028, 1.23228775e+029, 1.67688485e+029,\n",
       "       1.44890865e+030, 1.97166041e+030, 2.68301576e+030, 1.70360882e+031,\n",
       "       3.15465665e+031, 7.94923663e+031, 2.72577411e+032, 1.27187786e+033,\n",
       "       1.09896326e+034, 2.76921388e+034, 5.12789021e+034, 1.29214736e+035,\n",
       "       1.75834121e+035, 3.25600733e+035, 4.43074221e+035, 1.51929084e+036,\n",
       "       2.43086534e+037, 4.50135350e+037, 8.33537875e+037, 2.10038383e+038,\n",
       "       5.29263560e+038, 7.20216560e+038, 3.36061413e+039, 6.22301528e+039,\n",
       "       8.46821696e+039, 2.90373121e+040, 7.31694416e+040, 9.95682444e+040,\n",
       "       4.64596994e+041, 1.17071107e+042, 1.37650755e+043, 1.87313770e+043,\n",
       "       4.72001125e+043, 2.20241207e+044, 1.39844450e+045, 1.90298929e+045,\n",
       "       6.52530447e+045, 8.87956907e+045, 2.23751120e+046, 3.04478286e+046,\n",
       "       7.67237204e+046, 1.93331661e+047, 3.58001791e+047, 9.02107986e+047,\n",
       "       1.22757953e+048, 2.27316968e+048, 3.63707149e+049, 1.24714306e+050,\n",
       "       3.14260359e+050, 4.27642354e+050, 1.46637534e+051, 3.69503431e+051,\n",
       "       5.02816574e+051, 6.84227766e+051, 2.34620054e+052, 5.91205490e+052,\n",
       "       2.02722939e+053, 5.10829797e+053, 3.24356703e+054, 6.00627338e+054,\n",
       "       8.17327676e+054, 2.80259693e+055, 1.30772428e+056, 3.29525870e+056,\n",
       "       4.48415509e+056, 1.53760599e+057, 3.87452430e+057, 9.76318944e+057,\n",
       "       1.32856506e+058, 1.14794370e+059, 1.56211031e+059, 1.34973796e+060,\n",
       "       2.49937650e+060, 6.29803412e+060, 8.57030185e+060, 1.58700515e+061,\n",
       "       2.15958074e+061, 2.93873588e+061, 2.53920824e+062, 8.70688395e+062,\n",
       "       2.19399727e+063, 4.06273319e+063, 1.02374461e+064, 3.51039564e+064,\n",
       "       1.20370622e+065, 1.63799138e+065, 4.12747964e+065, 5.61663302e+065,\n",
       "       3.56633967e+066, 1.66409551e+067, 2.26448454e+067, 4.19325793e+067,\n",
       "       5.70614347e+067, 4.93038066e+068, 6.70921270e+068, 9.12982955e+068,\n",
       "       2.30057289e+069, 5.79708041e+069, 7.88860905e+069, 2.70498506e+070,\n",
       "       6.81613523e+070, 4.32797609e+071, 1.48405258e+072, 3.73957818e+072,\n",
       "       9.42314654e+072, 1.74493062e+073, 4.39694963e+073, 5.98332509e+073,\n",
       "       1.10796188e+074, 1.50770345e+074, 1.77273901e+075, 6.07867939e+075,\n",
       "       8.27180613e+075, 1.53173122e+076, 7.14723581e+076, 1.80099057e+077,\n",
       "       2.45076996e+077, 1.14355773e+078, 2.11758237e+078, 3.92123193e+078,\n",
       "       9.88088530e+078, 3.38813179e+079, 1.16178224e+080, 1.58094165e+080,\n",
       "       2.92750779e+080, 3.98372332e+080, 5.42101086e+080, 4.68401246e+081,\n",
       "       6.37395732e+081, 4.04721062e+082, 7.49441994e+082, 1.88847549e+083,\n",
       "       4.75866004e+083, 6.47553699e+083, 2.22044605e+084, 3.02156078e+084,\n",
       "       7.61385606e+084, 2.61077292e+085, 6.57873551e+085, 1.21821697e+086,\n",
       "       3.06971441e+086, 4.17723667e+086, 7.73519560e+086, 1.05259768e+087,\n",
       "       9.09494702e+087, 1.23763130e+088, 4.24380792e+088, 1.06937259e+089,\n",
       "       1.45519152e+089, 1.98021007e+089, 1.25735502e+090, 1.71099614e+090,\n",
       "       2.32830644e+090, 7.98370673e+090, 2.01176803e+091, 2.73759382e+091,\n",
       "       6.89830417e+091, 1.73826373e+092, 8.11094046e+092, 1.10372867e+093,\n",
       "       2.04382892e+093, 2.78122196e+093, 9.53674316e+093, 3.27012628e+094,\n",
       "       4.44995514e+094, 1.12131843e+095, 1.52587891e+095, 2.82554539e+095,\n",
       "       5.23220204e+095, 1.31843230e+096, 3.32224121e+096, 4.52087262e+096,\n",
       "       2.10949168e+097, 3.90625000e+097, 5.31558594e+097, 7.23339619e+097,\n",
       "       1.82270162e+098, 4.59292029e+098, 6.25000000e+098, 8.50493750e+098,\n",
       "       2.14310996e+099, 2.91632260e+099, 5.40029869e+099, 7.34867246e+099,\n",
       "       1.00000000e+100])"
      ]
     },
     "execution_count": 31,
     "metadata": {},
     "output_type": "execute_result"
    }
   ],
   "source": [
    "np.unique(m)"
   ]
  },
  {
   "cell_type": "code",
   "execution_count": 30,
   "metadata": {},
   "outputs": [],
   "source": [
    "m *= 1e100"
   ]
  },
  {
   "cell_type": "code",
   "execution_count": 76,
   "metadata": {},
   "outputs": [
    {
     "data": {
      "text/plain": [
       "[<matplotlib.lines.Line2D at 0x7fbd36a6a500>]"
      ]
     },
     "execution_count": 76,
     "metadata": {},
     "output_type": "execute_result"
    },
    {
     "data": {
      "text/plain": [
       "(-2.055751481811705,\n",
       " 2.380244996352379,\n",
       " -1.9625473244794707,\n",
       " 1.9292940228470687)"
      ]
     },
     "execution_count": 76,
     "metadata": {},
     "output_type": "execute_result"
    },
    {
     "data": {
      "image/png": "[encoded data removed]",
      "text/plain": [
       "<Figure size 640x480 with 1 Axes>"
      ]
     },
     "metadata": {},
     "output_type": "display_data"
    }
   ],
   "source": [
    "mean = [0.2, 0.0]\n",
    "\n",
    "cov = [[0.25, 0], [0, 0.2]]  # diagonal covariance\n",
    "\n",
    "x, y = np.random.multivariate_normal(mean, cov, 20000).T\n",
    "\n",
    "plt.plot(x, y, 'x')\n",
    "\n",
    "plt.axis('equal')\n",
    "\n",
    "plt.show()"
   ]
  },
  {
   "cell_type": "code",
   "execution_count": 74,
   "metadata": {},
   "outputs": [
    {
     "data": {
      "text/plain": [
       "array([-6.11191355,  4.14917622, -1.96470968, ...,  4.01980412,\n",
       "        1.71052314, -4.516118  ])"
      ]
     },
     "execution_count": 74,
     "metadata": {},
     "output_type": "execute_result"
    }
   ],
   "source": [
    "x"
   ]
  },
  {
   "cell_type": "code",
   "execution_count": 75,
   "metadata": {},
   "outputs": [
    {
     "data": {
      "text/plain": [
       "array([13.6509615 ,  2.2842783 , 13.39100091, ..., -1.69735878,\n",
       "       -6.80790114, -1.226276  ])"
      ]
     },
     "execution_count": 75,
     "metadata": {},
     "output_type": "execute_result"
    }
   ],
   "source": [
    "y"
   ]
  },
  {
   "cell_type": "code",
   "execution_count": 59,
   "metadata": {},
   "outputs": [
    {
     "data": {
      "text/plain": [
       "(1, 2)"
      ]
     },
     "execution_count": 59,
     "metadata": {},
     "output_type": "execute_result"
    }
   ],
   "source": [
    "a = np.array([0.25, 0.5])\n",
    "a = a[np.newaxis, :]\n",
    "a.shape"
   ]
  },
  {
   "cell_type": "code",
   "execution_count": 62,
   "metadata": {},
   "outputs": [
    {
     "data": {
      "text/plain": [
       "array([[0.25, 0.5 ],\n",
       "       [0.25, 0.5 ],\n",
       "       [0.25, 0.5 ],\n",
       "       [0.25, 0.5 ],\n",
       "       [0.25, 0.5 ],\n",
       "       [0.25, 0.5 ],\n",
       "       [0.25, 0.5 ],\n",
       "       [0.25, 0.5 ],\n",
       "       [0.25, 0.5 ],\n",
       "       [0.25, 0.5 ]])"
      ]
     },
     "execution_count": 62,
     "metadata": {},
     "output_type": "execute_result"
    }
   ],
   "source": [
    "np.repeat(a, 10, axis=0)"
   ]
  },
  {
   "cell_type": "code",
   "execution_count": 63,
   "metadata": {},
   "outputs": [
    {
     "ename": "AttributeError",
     "evalue": "'GaussianMixture' object has no attribute 'covariances_'",
     "output_type": "error",
     "traceback": [
      "\u001b[0;31m---------------------------------------------------------------------------\u001b[0m",
      "\u001b[0;31mAttributeError\u001b[0m                            Traceback (most recent call last)",
      "Cell \u001b[0;32mIn [63], line 45\u001b[0m\n\u001b[1;32m     42\u001b[0m estimator\u001b[39m.\u001b[39mmeans_init \u001b[39m=\u001b[39m np\u001b[39m.\u001b[39mrepeat(a, \u001b[39m10\u001b[39m, axis\u001b[39m=\u001b[39m\u001b[39m0\u001b[39m)\n\u001b[1;32m     44\u001b[0m h \u001b[39m=\u001b[39m plt\u001b[39m.\u001b[39msubplot(\u001b[39m1\u001b[39m, \u001b[39m1\u001b[39m, \u001b[39m1\u001b[39m)\n\u001b[0;32m---> 45\u001b[0m make_ellipses(estimator, h)\n",
      "Cell \u001b[0;32mIn [63], line 20\u001b[0m, in \u001b[0;36mmake_ellipses\u001b[0;34m(gmm, ax)\u001b[0m\n\u001b[1;32m     18\u001b[0m     covariances \u001b[39m=\u001b[39m gmm\u001b[39m.\u001b[39mcovariances_[:\u001b[39m2\u001b[39m, :\u001b[39m2\u001b[39m]\n\u001b[1;32m     19\u001b[0m \u001b[39melif\u001b[39;00m gmm\u001b[39m.\u001b[39mcovariance_type \u001b[39m==\u001b[39m \u001b[39m\"\u001b[39m\u001b[39mdiag\u001b[39m\u001b[39m\"\u001b[39m:\n\u001b[0;32m---> 20\u001b[0m     covariances \u001b[39m=\u001b[39m np\u001b[39m.\u001b[39mdiag(gmm\u001b[39m.\u001b[39;49mcovariances_[n][:\u001b[39m2\u001b[39m])\n\u001b[1;32m     21\u001b[0m \u001b[39melif\u001b[39;00m gmm\u001b[39m.\u001b[39mcovariance_type \u001b[39m==\u001b[39m \u001b[39m\"\u001b[39m\u001b[39mspherical\u001b[39m\u001b[39m\"\u001b[39m:\n\u001b[1;32m     22\u001b[0m     covariances \u001b[39m=\u001b[39m np\u001b[39m.\u001b[39meye(gmm\u001b[39m.\u001b[39mmeans_\u001b[39m.\u001b[39mshape[\u001b[39m1\u001b[39m]) \u001b[39m*\u001b[39m gmm\u001b[39m.\u001b[39mcovariances_[n]\n",
      "\u001b[0;31mAttributeError\u001b[0m: 'GaussianMixture' object has no attribute 'covariances_'"
     ]
    },
    {
     "data": {
      "image/png": "[encoded data removed]",
      "text/plain": [
       "<Figure size 640x480 with 1 Axes>"
      ]
     },
     "metadata": {},
     "output_type": "display_data"
    }
   ],
   "source": [
    "import matplotlib as mpl\n",
    "import matplotlib.pyplot as plt\n",
    "\n",
    "import numpy as np\n",
    "\n",
    "from sklearn import datasets\n",
    "from sklearn.mixture import GaussianMixture\n",
    "from sklearn.model_selection import StratifiedKFold\n",
    "\n",
    "colors = [\"navy\", \"turquoise\", \"darkorange\"]\n",
    "\n",
    "\n",
    "def make_ellipses(gmm, ax):\n",
    "    for n, color in enumerate(colors):\n",
    "        covariances = np.diag(gmm.covariances_[n][:2])\n",
    "        v, w = np.linalg.eigh(covariances)\n",
    "        u = w[0] / np.linalg.norm(w[0])\n",
    "        angle = np.arctan2(u[1], u[0])\n",
    "        angle = 180 * angle / np.pi  # convert to degrees\n",
    "        v = 2.0 * np.sqrt(2.0) * np.sqrt(v)\n",
    "        ell = mpl.patches.Ellipse(\n",
    "            gmm.means_[n, :2], v[0], v[1], angle=180 + angle, color=color\n",
    "        )\n",
    "        ell.set_clip_box(ax.bbox)\n",
    "        ell.set_alpha(0.5)\n",
    "        ax.add_artist(ell)\n",
    "        ax.set_aspect(\"equal\", \"datalim\")\n",
    "\n",
    "\n",
    "estimator = GaussianMixture(\n",
    "        n_components=2, covariance_type='diag', max_iter=20, random_state=0\n",
    "    )\n",
    "a = np.array([0.25, 0.5])\n",
    "a = a[np.newaxis, :]\n",
    "estimator.means_init = np.repeat(a, 10, axis=0)\n",
    "\n",
    "h = plt.subplot(1, 1, 1)\n",
    "make_ellipses(estimator, h)"
   ]
  },
  {
   "cell_type": "code",
   "execution_count": 64,
   "metadata": {},
   "outputs": [],
   "source": [
    "estimator = GaussianMixture(\n",
    "        n_components=2, covariance_type='diag', max_iter=20, random_state=0\n",
    "    )\n"
   ]
  },
  {
   "cell_type": "code",
   "execution_count": 70,
   "metadata": {},
   "outputs": [
    {
     "ename": "AttributeError",
     "evalue": "'GaussianMixture' object has no attribute 'covars_'",
     "output_type": "error",
     "traceback": [
      "\u001b[0;31m---------------------------------------------------------------------------\u001b[0m",
      "\u001b[0;31mAttributeError\u001b[0m                            Traceback (most recent call last)",
      "Cell \u001b[0;32mIn [70], line 4\u001b[0m\n\u001b[1;32m      2\u001b[0m a \u001b[39m=\u001b[39m a[np\u001b[39m.\u001b[39mnewaxis, :]\n\u001b[1;32m      3\u001b[0m estimator\u001b[39m.\u001b[39mmeans_init \u001b[39m=\u001b[39m np\u001b[39m.\u001b[39mrepeat(a, \u001b[39m10\u001b[39m, axis\u001b[39m=\u001b[39m\u001b[39m0\u001b[39m)\n\u001b[0;32m----> 4\u001b[0m estimator\u001b[39m.\u001b[39;49mcovars_\n",
      "\u001b[0;31mAttributeError\u001b[0m: 'GaussianMixture' object has no attribute 'covars_'"
     ]
    }
   ],
   "source": [
    "a = np.array([0.25, 0.5])\n",
    "a = a[np.newaxis, :]\n",
    "estimator.means_init = np.repeat(a, 10, axis=0)\n",
    "estimator.covars_"
   ]
  },
  {
   "cell_type": "code",
   "execution_count": 71,
   "metadata": {},
   "outputs": [],
   "source": [
    "import sklearn"
   ]
  },
  {
   "cell_type": "code",
   "execution_count": 72,
   "metadata": {},
   "outputs": [
    {
     "data": {
      "text/plain": [
       "'1.1.2'"
      ]
     },
     "execution_count": 72,
     "metadata": {},
     "output_type": "execute_result"
    }
   ],
   "source": [
    "sklearn.__version__"
   ]
  },
  {
   "cell_type": "code",
   "execution_count": 90,
   "metadata": {},
   "outputs": [
    {
     "data": {
      "text/plain": [
       "[<matplotlib.lines.Line2D at 0x7fbd3683a7d0>]"
      ]
     },
     "execution_count": 90,
     "metadata": {},
     "output_type": "execute_result"
    },
    {
     "data": {
      "image/png": "[encoded data removed]",
      "text/plain": [
       "<Figure size 640x480 with 1 Axes>"
      ]
     },
     "metadata": {},
     "output_type": "display_data"
    }
   ],
   "source": [
    "import numpy as np\n",
    "import scipy as sp\n",
    "from scipy import stats\n",
    "import matplotlib.pyplot as plt\n",
    "## generate the data and plot it for an ideal normal curve\n",
    "\n",
    "## x-axis for the plot\n",
    "x_data = np.arange(-5, 5, 0.001)\n",
    "\n",
    "## y-axis as the gaussian\n",
    "y_data = stats.norm.pdf(x_data, 0.2, 0.25)\n",
    "mask = np.logical_and((x_data > 0.0), (x_data < 0.25))\n",
    "y_data[mask] = np.max(y_data)\n",
    "# y_data[y_data >= 0 and y_data <= 0.2] = np.max(y_data)\n",
    "\n",
    "## plot data\n",
    "plt.plot(x_data, y_data)"
   ]
  },
  {
   "cell_type": "code",
   "execution_count": 89,
   "metadata": {},
   "outputs": [
    {
     "data": {
      "text/plain": [
       "(10000,)"
      ]
     },
     "execution_count": 89,
     "metadata": {},
     "output_type": "execute_result"
    }
   ],
   "source": [
    "x_data.shape"
   ]
  },
  {
   "cell_type": "code",
   "execution_count": 88,
   "metadata": {},
   "outputs": [
    {
     "data": {
      "text/plain": [
       "(10000,)"
      ]
     },
     "execution_count": 88,
     "metadata": {},
     "output_type": "execute_result"
    }
   ],
   "source": []
  },
  {
   "cell_type": "code",
   "execution_count": 141,
   "metadata": {},
   "outputs": [
    {
     "data": {
      "text/plain": [
       "array([False, False,  True, False, False, False, False, False, False,\n",
       "       False, False, False, False, False, False, False, False, False,\n",
       "       False, False, False, False, False, False, False, False, False,\n",
       "       False, False, False, False, False, False, False, False, False,\n",
       "       False, False, False, False, False, False, False, False, False,\n",
       "       False, False, False, False, False, False, False, False, False,\n",
       "       False, False, False, False, False, False, False, False, False,\n",
       "       False, False, False, False, False, False, False, False, False,\n",
       "       False, False, False, False, False, False, False, False, False,\n",
       "       False, False, False, False, False, False, False, False, False,\n",
       "       False, False, False, False, False, False, False, False, False,\n",
       "       False])"
      ]
     },
     "execution_count": 141,
     "metadata": {},
     "output_type": "execute_result"
    }
   ],
   "source": [
    "num = -4.8\n",
    "np.logical_and(b >= (num - 0.001), b <= (num + 0.001))"
   ]
  },
  {
   "cell_type": "code",
   "execution_count": 145,
   "metadata": {},
   "outputs": [
    {
     "data": {
      "text/plain": [
       "array([-4.8])"
      ]
     },
     "execution_count": 145,
     "metadata": {},
     "output_type": "execute_result"
    },
    {
     "data": {
      "text/plain": [
       "2"
      ]
     },
     "execution_count": 145,
     "metadata": {},
     "output_type": "execute_result"
    },
    {
     "data": {
      "text/plain": [
       "array([-5.00000000e+00, -4.90000000e+00, -4.80000000e+00, -4.70000000e+00,\n",
       "       -4.60000000e+00, -4.50000000e+00, -4.40000000e+00, -4.30000000e+00,\n",
       "       -4.20000000e+00, -4.10000000e+00, -4.00000000e+00, -3.90000000e+00,\n",
       "       -3.80000000e+00, -3.70000000e+00, -3.60000000e+00, -3.50000000e+00,\n",
       "       -3.40000000e+00, -3.30000000e+00, -3.20000000e+00, -3.10000000e+00,\n",
       "       -3.00000000e+00, -2.90000000e+00, -2.80000000e+00, -2.70000000e+00,\n",
       "       -2.60000000e+00, -2.50000000e+00, -2.40000000e+00, -2.30000000e+00,\n",
       "       -2.20000000e+00, -2.10000000e+00, -2.00000000e+00, -1.90000000e+00,\n",
       "       -1.80000000e+00, -1.70000000e+00, -1.60000000e+00, -1.50000000e+00,\n",
       "       -1.40000000e+00, -1.30000000e+00, -1.20000000e+00, -1.10000000e+00,\n",
       "       -1.00000000e+00, -9.00000000e-01, -8.00000000e-01, -7.00000000e-01,\n",
       "       -6.00000000e-01, -5.00000000e-01, -4.00000000e-01, -3.00000000e-01,\n",
       "       -2.00000000e-01, -1.00000000e-01, -1.77635684e-14,  1.00000000e-01,\n",
       "        2.00000000e-01,  3.00000000e-01,  4.00000000e-01,  5.00000000e-01,\n",
       "        6.00000000e-01,  7.00000000e-01,  8.00000000e-01,  9.00000000e-01,\n",
       "        1.00000000e+00,  1.10000000e+00,  1.20000000e+00,  1.30000000e+00,\n",
       "        1.40000000e+00,  1.50000000e+00,  1.60000000e+00,  1.70000000e+00,\n",
       "        1.80000000e+00,  1.90000000e+00,  2.00000000e+00,  2.10000000e+00,\n",
       "        2.20000000e+00,  2.30000000e+00,  2.40000000e+00,  2.50000000e+00,\n",
       "        2.60000000e+00,  2.70000000e+00,  2.80000000e+00,  2.90000000e+00,\n",
       "        3.00000000e+00,  3.10000000e+00,  3.20000000e+00,  3.30000000e+00,\n",
       "        3.40000000e+00,  3.50000000e+00,  3.60000000e+00,  3.70000000e+00,\n",
       "        3.80000000e+00,  3.90000000e+00,  4.00000000e+00,  4.10000000e+00,\n",
       "        4.20000000e+00,  4.30000000e+00,  4.40000000e+00,  4.50000000e+00,\n",
       "        4.60000000e+00,  4.70000000e+00,  4.80000000e+00,  4.90000000e+00])"
      ]
     },
     "execution_count": 145,
     "metadata": {},
     "output_type": "execute_result"
    }
   ],
   "source": [
    "b = np.arange(-5, 5, 0.1, dtype=float)\n",
    "num = -4.8\n",
    "mask = np.logical_and(b >= (num - 0.001), b <= (num + 0.001))\n",
    "b[mask]\n",
    "np.where(np.logical_and(b >= (num - 0.001), b <= (num + 0.001)))[0][0]\n",
    "b"
   ]
  },
  {
   "cell_type": "code",
   "execution_count": 153,
   "metadata": {},
   "outputs": [],
   "source": [
    "def get_error(coord, offset, sigma, safe_radius):\n",
    "    if coord < -5 or coord > 5:\n",
    "        return 0\n",
    "    x_data = np.arange(-5, 5, 0.01)\n",
    "\n",
    "    ## y-axis as the gaussian\n",
    "    y_data = stats.norm.pdf(x_data, offset, sigma)\n",
    "    mask = np.logical_and((x_data >= 0.0), (x_data <= safe_radius))\n",
    "    y_data[mask] = np.max(y_data)\n",
    "    r = round(coord, 2)\n",
    "    ind = np.where(np.logical_and(x_data >= (r - 0.001), x_data <= (r + 0.001)))[0][0]\n",
    "    return y_data[ind]"
   ]
  },
  {
   "cell_type": "code",
   "execution_count": 164,
   "metadata": {},
   "outputs": [],
   "source": [
    "def get_punish(ped_pos, robot_pos):\n",
    "    s_x = 0.25\n",
    "    s_y = 0.2\n",
    "    r0 = 0.25\n",
    "    offset_x = 0.2\n",
    "    offset_y = 0\n",
    "    A = 1\n",
    "\n",
    "    x_punish = get_error(ped_pos[0] - robot_pos[0], offset_x, s_x, r0)\n",
    "    y_punish = get_error(ped_pos[1] - robot_pos[1], offset_y, s_y, r0)\n",
    "\n",
    "    return - A * np.sqrt(x_punish ** 2 + y_punish ** 2)\n",
    "    # return np.exp(((x_punish ** 2 )/s_x ** 2) + (y_punish ** 2)/(s_y ** 2))\n",
    "\n",
    "\n",
    "    # gauss = np.exp(-(((ped_pos[0] - robot_pos[0])  ** 2) / (2 * (s_x ** 2)) + ((ped_pos[1] - robot_pos[1]) ** 2) / (2 * (s_y ** 2))))\n",
    "    # gauss2 = np.exp(-((x_punish[]) + ()))\n",
    "    # return x_punish, y_punish, gauss\n",
    "\n",
    "    ## plot data"
   ]
  },
  {
   "cell_type": "code",
   "execution_count": 163,
   "metadata": {},
   "outputs": [
    {
     "data": {
      "text/plain": [
       "-1.5957691216058216"
      ]
     },
     "execution_count": 163,
     "metadata": {},
     "output_type": "execute_result"
    }
   ],
   "source": [
    "res = get_punish((23, 28), (22.9, 29.1))\n",
    "res"
   ]
  },
  {
   "cell_type": "code",
   "execution_count": null,
   "metadata": {},
   "outputs": [],
   "source": []
  }
 ],
 "metadata": {
  "kernelspec": {
   "display_name": "Python 3.10.4 ('ds')",
   "language": "python",
   "name": "python3"
  },
  "language_info": {
   "codemirror_mode": {
    "name": "ipython",
    "version": 3
   },
   "file_extension": ".py",
   "mimetype": "text/x-python",
   "name": "python",
   "nbconvert_exporter": "python",
   "pygments_lexer": "ipython3",
   "version": "3.10.4"
  },
  "orig_nbformat": 4,
  "vscode": {
   "interpreter": {
    "hash": "a19b8e0447e86fd2f3e6aa600634ab58f97fc61176772650ecb47edd61d550e3"
   }
  }
 },
 "nbformat": 4,
 "nbformat_minor": 2
}
